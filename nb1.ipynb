{
 "cells": [
  {
   "cell_type": "code",
   "execution_count": null,
   "metadata": {
    "colab": {
     "base_uri": "https://localhost:8080/",
     "height": 34
    },
    "id": "q7Bfz9KiRKaG",
    "outputId": "ad079927-b8fd-4f5b-c1d1-1cc7718061f7"
   },
   "outputs": [
    {
     "name": "stdout",
     "output_type": "stream",
     "text": [
      "S I G N A L   C L A S S I F I E R\n"
     ]
    }
   ],
   "source": [
    "# import modules\n",
    "from IPython.display import display, clear_output\n",
    "import numpy as np\n",
    "import os\n",
    "\n",
    "print('S I G N A L   C L A S S I F I E R') "
   ]
  },
  {
   "cell_type": "markdown",
   "metadata": {
    "id": "Hqph97k-UTH0"
   },
   "source": [
    "<h1>Identify Classes of Signals</h1>"
   ]
  },
  {
   "cell_type": "code",
   "execution_count": null,
   "metadata": {
    "id": "6owjJmw1SVmf"
   },
   "outputs": [],
   "source": [
    "# import classes from .txt file \n",
    "classes = ['32PSK',\n",
    " '16APSK',\n",
    " '32QAM',\n",
    " 'FM',\n",
    " 'GMSK',\n",
    " '32APSK',\n",
    " 'OQPSK', #1\n",
    " '8ASK',\n",
    " 'BPSK',\n",
    " '8PSK',\n",
    " 'AM-SSB-SC',\n",
    " '4ASK',\n",
    " '16PSK',\n",
    " '64APSK',\n",
    " '128QAM',\n",
    " '128APSK',\n",
    " 'AM-DSB-SC', #2\n",
    " 'AM-SSB-WC',\n",
    " '64QAM',\n",
    " 'QPSK',\n",
    " '256QAM',\n",
    " 'AM-DSB-WC',\n",
    " 'OOK',\n",
    " '16QAM']"
   ]
  },
  {
   "cell_type": "markdown",
   "metadata": {
    "id": "KLGOqVgwUYRV"
   },
   "source": [
    "<h1>Import Signal Data</h1>"
   ]
  },
  {
   "cell_type": "code",
   "execution_count": null,
   "metadata": {
    "colab": {
     "base_uri": "https://localhost:8080/",
     "height": 221
    },
    "id": "2zjZu2vlSbAQ",
    "outputId": "fb4dee34-c023-47e6-e64a-7b6bf6c71c69"
   },
   "outputs": [
    {
     "name": "stdout",
     "output_type": "stream",
     "text": [
      "Loading training data ...\n",
      "Load complete!\n",
      "\n",
      "\n",
      "Loading validation data ...\n",
      "Load complete!\n",
      "\n",
      "\n",
      "Loading testing data ...\n",
      "Load complete!\n",
      "\n",
      "\n"
     ]
    }
   ],
   "source": [
    "path = 'data/npy_data/signal_dataset/'\n",
    "\n",
    "# load training data\n",
    "print('Loading training data ...')\n",
    "x_train = np.load(path + 'train/signals.npy')\n",
    "y_train = np.load(path + 'train/labels.npy')\n",
    "snr_train = np.load(path + 'train/snrs.npy')\n",
    "print('Load complete!')\n",
    "print('\\n')\n",
    "\n",
    "# load validation data\n",
    "print('Loading validation data ...')\n",
    "x_val = np.load(path + 'validation/signals.npy')\n",
    "y_val = np.load(path + 'validation/labels.npy')\n",
    "snr_val = np.load(path + 'validation/snrs.npy')\n",
    "print('Load complete!')\n",
    "print('\\n')\n",
    "\n",
    "# load testing data\n",
    "print('Loading testing data ...')\n",
    "x_test = np.load(path + 'test/signals.npy')\n",
    "y_test = np.load(path + 'test/labels.npy')\n",
    "snr_test = np.load(path + 'test/snrs.npy')\n",
    "print('Load complete!')\n",
    "print('\\n')"
   ]
  },
  {
   "cell_type": "markdown",
   "metadata": {
    "id": "Wo5dLhnSUDTf"
   },
   "source": [
    "<h1>Import Deep Learning Libraries</h1>"
   ]
  },
  {
   "cell_type": "code",
   "execution_count": null,
   "metadata": {
    "colab": {
     "base_uri": "https://localhost:8080/",
     "height": 462
    },
    "id": "Qc8lcT1YWUk_",
    "outputId": "7f3404d3-cac6-4bc5-a8cc-fd7d243e2d33"
   },
   "outputs": [
    {
     "name": "stderr",
     "output_type": "stream",
     "text": [
      "Using TensorFlow backend.\n",
      "/usr/local/lib/python3.5/dist-packages/tensorflow/python/framework/dtypes.py:516: FutureWarning: Passing (type, 1) or '1type' as a synonym of type is deprecated; in a future version of numpy, it will be understood as (type, (1,)) / '(1,)type'.\n",
      "  _np_qint8 = np.dtype([(\"qint8\", np.int8, 1)])\n",
      "/usr/local/lib/python3.5/dist-packages/tensorflow/python/framework/dtypes.py:517: FutureWarning: Passing (type, 1) or '1type' as a synonym of type is deprecated; in a future version of numpy, it will be understood as (type, (1,)) / '(1,)type'.\n",
      "  _np_quint8 = np.dtype([(\"quint8\", np.uint8, 1)])\n",
      "/usr/local/lib/python3.5/dist-packages/tensorflow/python/framework/dtypes.py:518: FutureWarning: Passing (type, 1) or '1type' as a synonym of type is deprecated; in a future version of numpy, it will be understood as (type, (1,)) / '(1,)type'.\n",
      "  _np_qint16 = np.dtype([(\"qint16\", np.int16, 1)])\n",
      "/usr/local/lib/python3.5/dist-packages/tensorflow/python/framework/dtypes.py:519: FutureWarning: Passing (type, 1) or '1type' as a synonym of type is deprecated; in a future version of numpy, it will be understood as (type, (1,)) / '(1,)type'.\n",
      "  _np_quint16 = np.dtype([(\"quint16\", np.uint16, 1)])\n",
      "/usr/local/lib/python3.5/dist-packages/tensorflow/python/framework/dtypes.py:520: FutureWarning: Passing (type, 1) or '1type' as a synonym of type is deprecated; in a future version of numpy, it will be understood as (type, (1,)) / '(1,)type'.\n",
      "  _np_qint32 = np.dtype([(\"qint32\", np.int32, 1)])\n",
      "/usr/local/lib/python3.5/dist-packages/tensorflow/python/framework/dtypes.py:525: FutureWarning: Passing (type, 1) or '1type' as a synonym of type is deprecated; in a future version of numpy, it will be understood as (type, (1,)) / '(1,)type'.\n",
      "  np_resource = np.dtype([(\"resource\", np.ubyte, 1)])\n",
      "/usr/local/lib/python3.5/dist-packages/tensorboard/compat/tensorflow_stub/dtypes.py:541: FutureWarning: Passing (type, 1) or '1type' as a synonym of type is deprecated; in a future version of numpy, it will be understood as (type, (1,)) / '(1,)type'.\n",
      "  _np_qint8 = np.dtype([(\"qint8\", np.int8, 1)])\n",
      "/usr/local/lib/python3.5/dist-packages/tensorboard/compat/tensorflow_stub/dtypes.py:542: FutureWarning: Passing (type, 1) or '1type' as a synonym of type is deprecated; in a future version of numpy, it will be understood as (type, (1,)) / '(1,)type'.\n",
      "  _np_quint8 = np.dtype([(\"quint8\", np.uint8, 1)])\n",
      "/usr/local/lib/python3.5/dist-packages/tensorboard/compat/tensorflow_stub/dtypes.py:543: FutureWarning: Passing (type, 1) or '1type' as a synonym of type is deprecated; in a future version of numpy, it will be understood as (type, (1,)) / '(1,)type'.\n",
      "  _np_qint16 = np.dtype([(\"qint16\", np.int16, 1)])\n",
      "/usr/local/lib/python3.5/dist-packages/tensorboard/compat/tensorflow_stub/dtypes.py:544: FutureWarning: Passing (type, 1) or '1type' as a synonym of type is deprecated; in a future version of numpy, it will be understood as (type, (1,)) / '(1,)type'.\n",
      "  _np_quint16 = np.dtype([(\"quint16\", np.uint16, 1)])\n",
      "/usr/local/lib/python3.5/dist-packages/tensorboard/compat/tensorflow_stub/dtypes.py:545: FutureWarning: Passing (type, 1) or '1type' as a synonym of type is deprecated; in a future version of numpy, it will be understood as (type, (1,)) / '(1,)type'.\n",
      "  _np_qint32 = np.dtype([(\"qint32\", np.int32, 1)])\n",
      "/usr/local/lib/python3.5/dist-packages/tensorboard/compat/tensorflow_stub/dtypes.py:550: FutureWarning: Passing (type, 1) or '1type' as a synonym of type is deprecated; in a future version of numpy, it will be understood as (type, (1,)) / '(1,)type'.\n",
      "  np_resource = np.dtype([(\"resource\", np.ubyte, 1)])\n"
     ]
    }
   ],
   "source": [
    "# import deep learning libraries\n",
    "import os\n",
    "import keras\n",
    "from keras import layers\n",
    "from keras.utils import to_categorical\n",
    "from keras.models import Model, load_model\n",
    "from keras.initializers import glorot_uniform\n",
    "from keras.layers import Input, Dropout, Add, Dense, Reshape, Activation\n",
    "from keras.layers import BatchNormalization, Flatten, Conv1D, MaxPooling1D"
   ]
  },
  {
   "cell_type": "markdown",
   "metadata": {
    "id": "yPA4rvUJUkKX"
   },
   "source": [
    "<h1>Create Residual Stack</h1>"
   ]
  },
  {
   "cell_type": "code",
   "execution_count": null,
   "metadata": {
    "id": "oFJA8_jFWeKc"
   },
   "outputs": [],
   "source": [
    "# 1d conv resnet\n",
    "def residual_stack(x, f):\n",
    "    # 1x1 conv linear\n",
    "    x = Conv1D(f, 1, strides=1, padding='same', data_format='channels_last')(x)\n",
    "    x = Activation('linear')(x)\n",
    "    \n",
    "    # residual unit 1    \n",
    "    x_shortcut = x\n",
    "    x = Conv1D(f, 3, strides=1, padding=\"same\", data_format='channels_last')(x)\n",
    "    x = Activation('relu')(x)\n",
    "    x = Conv1D(f, 3, strides=1, padding=\"same\", data_format='channels_last')(x)\n",
    "    x = Activation('linear')(x)\n",
    "    # add skip connection\n",
    "    if x.shape[1:] == x_shortcut.shape[1:]:\n",
    "      x = Add()([x, x_shortcut])\n",
    "    else:\n",
    "      raise Exception('Skip Connection Failure!')\n",
    "      \n",
    "    # residual unit 2    \n",
    "    x_shortcut = x\n",
    "    x = Conv1D(f, 3, strides=1, padding=\"same\", data_format='channels_last')(x)\n",
    "    x = Activation('relu')(x)\n",
    "    x = Conv1D(f, 3, strides = 1, padding = \"same\", data_format='channels_last')(x)\n",
    "    x = Activation('linear')(x)\n",
    "    # add skip connection\n",
    "    if x.shape[1:] == x_shortcut.shape[1:]:\n",
    "      x = Add()([x, x_shortcut])\n",
    "    else:\n",
    "      raise Exception('Skip Connection Failure!')\n",
    "      \n",
    "    # max pooling layer\n",
    "    x = MaxPooling1D(pool_size=2, strides=None, padding='valid', data_format='channels_last')(x)\n",
    "    return x"
   ]
  },
  {
   "cell_type": "markdown",
   "metadata": {
    "id": "tEP7KGKxUqVI"
   },
   "source": [
    "<h1>Define ResNet Model</h1>"
   ]
  },
  {
   "cell_type": "code",
   "execution_count": null,
   "metadata": {
    "id": "IeoHEBPw3MJ2"
   },
   "outputs": [],
   "source": [
    "# define resnet model\n",
    "def ResNet(input_shape, classes):   \n",
    "    # create input tensor\n",
    "    x_input = Input(input_shape)\n",
    "    x = x_input\n",
    "    # residual stack\n",
    "    num_filters = 40\n",
    "    x = residual_stack(x, num_filters)\n",
    "    x = residual_stack(x, num_filters)\n",
    "    x = residual_stack(x, num_filters)\n",
    "    x = residual_stack(x, num_filters)\n",
    "    x = residual_stack(x, num_filters)\n",
    "    \n",
    "    # output layer\n",
    "    x = Flatten()(x)\n",
    "    x = Dense(128, activation=\"selu\", kernel_initializer=\"he_normal\")(x)\n",
    "    x = Dropout(.5)(x)\n",
    "    x = Dense(128, activation=\"selu\", kernel_initializer=\"he_normal\")(x)\n",
    "    x = Dropout(.5)(x)\n",
    "    x = Dense(classes , activation='softmax', kernel_initializer = glorot_uniform(seed=0))(x)\n",
    "    \n",
    "    # Create model\n",
    "    model = Model(inputs = x_input, outputs = x)\n",
    "\n",
    "    return model"
   ]
  },
  {
   "cell_type": "markdown",
   "metadata": {
    "id": "CjTjrpsoUvMB"
   },
   "source": [
    "<h1>Option to Save Model Weights and History</h1>"
   ]
  },
  {
   "cell_type": "code",
   "execution_count": null,
   "metadata": {
    "id": "9tcLb6ltXwGD"
   },
   "outputs": [],
   "source": [
    "# option to save model weights and model history\n",
    "save_model = False\n",
    "save_history = False\n",
    "\n",
    "# create directory for model weights\n",
    "if save_model is True:\n",
    "    weights_path = input(\"Name model weights directory: \")\n",
    "    weights_path = \"data/weights/\" + weights_path\n",
    "\n",
    "    try:\n",
    "        os.mkdir(weights_path)\n",
    "    except OSError:\n",
    "        print (\"Creation of the directory %s failed\" % weights_path)\n",
    "    else:\n",
    "        print (\"Successfully created the directory %s \" % weights_path)\n",
    "    print('\\n')\n",
    "    \n",
    "\n",
    "# create directory for model history\n",
    "if save_history is True:\n",
    "    history_path = input(\"Name model history directory: \")\n",
    "    history_path = \"data/model_history/\" + history_path\n",
    "\n",
    "    try:\n",
    "        os.mkdir(history_path)\n",
    "    except OSError:\n",
    "        print (\"Creation of the directory %s failed\" % history_path)\n",
    "    else:\n",
    "        print (\"Successfully created the directory %s \" % history_path)\n",
    "    print('\\n')"
   ]
  },
  {
   "cell_type": "markdown",
   "metadata": {
    "id": "X8NYlpGkU18y"
   },
   "source": [
    "<h1>Set Model Parameters</h1>"
   ]
  },
  {
   "cell_type": "code",
   "execution_count": null,
   "metadata": {
    "colab": {
     "base_uri": "https://localhost:8080/",
     "height": 34
    },
    "id": "NOn997XlalYM",
    "outputId": "f50b1967-67d9-4537-caa3-6b3e557f1ba4"
   },
   "outputs": [
    {
     "name": "stdout",
     "output_type": "stream",
     "text": [
      "Enter number of epochs: 10\n"
     ]
    }
   ],
   "source": [
    "# reshape input data\n",
    "x_train = x_train.reshape([-1, 1024, 2])\n",
    "x_val = x_val.reshape([-1, 1024, 2])\n",
    "x_test = x_test.reshape([-1, 1024, 2])\n",
    "\n",
    "# initialize optimizer \n",
    "adm = keras.optimizers.Adam(lr=0.0001, beta_1=0.9, beta_2=0.999, epsilon=None, decay=0.0, amsgrad=False)\n",
    "\n",
    "# set number of epochs\n",
    "num_epochs = input('Enter number of epochs: ')\n",
    "num_epochs = int(num_epochs)\n",
    "\n",
    "# set batch size\n",
    "batch = 32\n",
    "\n",
    "# configure weights save\n",
    "\n",
    "if save_model is True:\n",
    "    filepath= weights_path + \"/{epoch}.hdf5\"\n",
    "    checkpoint = keras.callbacks.ModelCheckpoint(filepath, monitor='val_acc', verbose=1, save_best_only=False, mode=\"auto\")\n",
    "    callbacks_list = [checkpoint]\n",
    "else:\n",
    "    callbacks_list = []"
   ]
  },
  {
   "cell_type": "markdown",
   "metadata": {
    "id": "rXs1nLUuU8Ed"
   },
   "source": [
    "<h1>Print Model Summary and Train Network</h1>"
   ]
  },
  {
   "cell_type": "code",
   "execution_count": null,
   "metadata": {
    "colab": {
     "base_uri": "https://localhost:8080/",
     "height": 1000
    },
    "id": "IlV8eeccD0It",
    "outputId": "e0641efa-3cc3-47c2-b78a-ec194ce28b8a"
   },
   "outputs": [
    {
     "name": "stderr",
     "output_type": "stream",
     "text": [
      "WARNING: Logging before flag parsing goes to stderr.\n",
      "W0903 22:04:53.832963 140633456527104 deprecation_wrapper.py:119] From /usr/local/lib/python3.5/dist-packages/keras/backend/tensorflow_backend.py:74: The name tf.get_default_graph is deprecated. Please use tf.compat.v1.get_default_graph instead.\n",
      "\n",
      "W0903 22:04:53.835044 140633456527104 deprecation_wrapper.py:119] From /usr/local/lib/python3.5/dist-packages/keras/backend/tensorflow_backend.py:517: The name tf.placeholder is deprecated. Please use tf.compat.v1.placeholder instead.\n",
      "\n",
      "W0903 22:04:53.839077 140633456527104 deprecation_wrapper.py:119] From /usr/local/lib/python3.5/dist-packages/keras/backend/tensorflow_backend.py:4138: The name tf.random_uniform is deprecated. Please use tf.random.uniform instead.\n",
      "\n",
      "W0903 22:04:53.931131 140633456527104 deprecation_wrapper.py:119] From /usr/local/lib/python3.5/dist-packages/keras/backend/tensorflow_backend.py:3976: The name tf.nn.max_pool is deprecated. Please use tf.nn.max_pool2d instead.\n",
      "\n",
      "W0903 22:04:54.402004 140633456527104 deprecation_wrapper.py:119] From /usr/local/lib/python3.5/dist-packages/keras/backend/tensorflow_backend.py:4185: The name tf.truncated_normal is deprecated. Please use tf.random.truncated_normal instead.\n",
      "\n",
      "W0903 22:04:54.415914 140633456527104 deprecation.py:323] From /usr/local/lib/python3.5/dist-packages/keras/backend/tensorflow_backend.py:3217: add_dispatch_support.<locals>.wrapper (from tensorflow.python.ops.array_ops) is deprecated and will be removed in a future version.\n",
      "Instructions for updating:\n",
      "Use tf.where in 2.0, which has the same broadcast rule as np.where\n",
      "W0903 22:04:54.419566 140633456527104 deprecation_wrapper.py:119] From /usr/local/lib/python3.5/dist-packages/keras/backend/tensorflow_backend.py:133: The name tf.placeholder_with_default is deprecated. Please use tf.compat.v1.placeholder_with_default instead.\n",
      "\n",
      "W0903 22:04:54.427296 140633456527104 deprecation.py:506] From /usr/local/lib/python3.5/dist-packages/keras/backend/tensorflow_backend.py:3445: calling dropout (from tensorflow.python.ops.nn_ops) with keep_prob is deprecated and will be removed in a future version.\n",
      "Instructions for updating:\n",
      "Please use `rate` instead of `keep_prob`. Rate should be set to `rate = 1 - keep_prob`.\n",
      "W0903 22:04:54.480009 140633456527104 deprecation_wrapper.py:119] From /usr/local/lib/python3.5/dist-packages/keras/optimizers.py:790: The name tf.train.Optimizer is deprecated. Please use tf.compat.v1.train.Optimizer instead.\n",
      "\n"
     ]
    },
    {
     "name": "stdout",
     "output_type": "stream",
     "text": [
      "__________________________________________________________________________________________________\n",
      "Layer (type)                    Output Shape         Param #     Connected to                     \n",
      "==================================================================================================\n",
      "input_1 (InputLayer)            (None, 1024, 2)      0                                            \n",
      "__________________________________________________________________________________________________\n",
      "conv1d_1 (Conv1D)               (None, 1024, 40)     120         input_1[0][0]                    \n",
      "__________________________________________________________________________________________________\n",
      "activation_1 (Activation)       (None, 1024, 40)     0           conv1d_1[0][0]                   \n",
      "__________________________________________________________________________________________________\n",
      "conv1d_2 (Conv1D)               (None, 1024, 40)     4840        activation_1[0][0]               \n",
      "__________________________________________________________________________________________________\n",
      "activation_2 (Activation)       (None, 1024, 40)     0           conv1d_2[0][0]                   \n",
      "__________________________________________________________________________________________________\n",
      "conv1d_3 (Conv1D)               (None, 1024, 40)     4840        activation_2[0][0]               \n",
      "__________________________________________________________________________________________________\n",
      "activation_3 (Activation)       (None, 1024, 40)     0           conv1d_3[0][0]                   \n",
      "__________________________________________________________________________________________________\n",
      "add_1 (Add)                     (None, 1024, 40)     0           activation_3[0][0]               \n",
      "                                                                 activation_1[0][0]               \n",
      "__________________________________________________________________________________________________\n",
      "conv1d_4 (Conv1D)               (None, 1024, 40)     4840        add_1[0][0]                      \n",
      "__________________________________________________________________________________________________\n",
      "activation_4 (Activation)       (None, 1024, 40)     0           conv1d_4[0][0]                   \n",
      "__________________________________________________________________________________________________\n",
      "conv1d_5 (Conv1D)               (None, 1024, 40)     4840        activation_4[0][0]               \n",
      "__________________________________________________________________________________________________\n",
      "activation_5 (Activation)       (None, 1024, 40)     0           conv1d_5[0][0]                   \n",
      "__________________________________________________________________________________________________\n",
      "add_2 (Add)                     (None, 1024, 40)     0           activation_5[0][0]               \n",
      "                                                                 add_1[0][0]                      \n",
      "__________________________________________________________________________________________________\n",
      "max_pooling1d_1 (MaxPooling1D)  (None, 512, 40)      0           add_2[0][0]                      \n",
      "__________________________________________________________________________________________________\n",
      "conv1d_6 (Conv1D)               (None, 512, 40)      1640        max_pooling1d_1[0][0]            \n",
      "__________________________________________________________________________________________________\n",
      "activation_6 (Activation)       (None, 512, 40)      0           conv1d_6[0][0]                   \n",
      "__________________________________________________________________________________________________\n",
      "conv1d_7 (Conv1D)               (None, 512, 40)      4840        activation_6[0][0]               \n",
      "__________________________________________________________________________________________________\n",
      "activation_7 (Activation)       (None, 512, 40)      0           conv1d_7[0][0]                   \n",
      "__________________________________________________________________________________________________\n",
      "conv1d_8 (Conv1D)               (None, 512, 40)      4840        activation_7[0][0]               \n",
      "__________________________________________________________________________________________________\n",
      "activation_8 (Activation)       (None, 512, 40)      0           conv1d_8[0][0]                   \n",
      "__________________________________________________________________________________________________\n",
      "add_3 (Add)                     (None, 512, 40)      0           activation_8[0][0]               \n",
      "                                                                 activation_6[0][0]               \n",
      "__________________________________________________________________________________________________\n",
      "conv1d_9 (Conv1D)               (None, 512, 40)      4840        add_3[0][0]                      \n",
      "__________________________________________________________________________________________________\n",
      "activation_9 (Activation)       (None, 512, 40)      0           conv1d_9[0][0]                   \n",
      "__________________________________________________________________________________________________\n",
      "conv1d_10 (Conv1D)              (None, 512, 40)      4840        activation_9[0][0]               \n",
      "__________________________________________________________________________________________________\n",
      "activation_10 (Activation)      (None, 512, 40)      0           conv1d_10[0][0]                  \n",
      "__________________________________________________________________________________________________\n",
      "add_4 (Add)                     (None, 512, 40)      0           activation_10[0][0]              \n",
      "                                                                 add_3[0][0]                      \n",
      "__________________________________________________________________________________________________\n",
      "max_pooling1d_2 (MaxPooling1D)  (None, 256, 40)      0           add_4[0][0]                      \n",
      "__________________________________________________________________________________________________\n",
      "conv1d_11 (Conv1D)              (None, 256, 40)      1640        max_pooling1d_2[0][0]            \n",
      "__________________________________________________________________________________________________\n",
      "activation_11 (Activation)      (None, 256, 40)      0           conv1d_11[0][0]                  \n",
      "__________________________________________________________________________________________________\n",
      "conv1d_12 (Conv1D)              (None, 256, 40)      4840        activation_11[0][0]              \n",
      "__________________________________________________________________________________________________\n",
      "activation_12 (Activation)      (None, 256, 40)      0           conv1d_12[0][0]                  \n",
      "__________________________________________________________________________________________________\n",
      "conv1d_13 (Conv1D)              (None, 256, 40)      4840        activation_12[0][0]              \n",
      "__________________________________________________________________________________________________\n",
      "activation_13 (Activation)      (None, 256, 40)      0           conv1d_13[0][0]                  \n",
      "__________________________________________________________________________________________________\n",
      "add_5 (Add)                     (None, 256, 40)      0           activation_13[0][0]              \n",
      "                                                                 activation_11[0][0]              \n",
      "__________________________________________________________________________________________________\n",
      "conv1d_14 (Conv1D)              (None, 256, 40)      4840        add_5[0][0]                      \n",
      "__________________________________________________________________________________________________\n",
      "activation_14 (Activation)      (None, 256, 40)      0           conv1d_14[0][0]                  \n",
      "__________________________________________________________________________________________________\n",
      "conv1d_15 (Conv1D)              (None, 256, 40)      4840        activation_14[0][0]              \n",
      "__________________________________________________________________________________________________\n",
      "activation_15 (Activation)      (None, 256, 40)      0           conv1d_15[0][0]                  \n",
      "__________________________________________________________________________________________________\n",
      "add_6 (Add)                     (None, 256, 40)      0           activation_15[0][0]              \n",
      "                                                                 add_5[0][0]                      \n",
      "__________________________________________________________________________________________________\n",
      "max_pooling1d_3 (MaxPooling1D)  (None, 128, 40)      0           add_6[0][0]                      \n",
      "__________________________________________________________________________________________________\n",
      "conv1d_16 (Conv1D)              (None, 128, 40)      1640        max_pooling1d_3[0][0]            \n",
      "__________________________________________________________________________________________________\n",
      "activation_16 (Activation)      (None, 128, 40)      0           conv1d_16[0][0]                  \n",
      "__________________________________________________________________________________________________\n",
      "conv1d_17 (Conv1D)              (None, 128, 40)      4840        activation_16[0][0]              \n",
      "__________________________________________________________________________________________________\n",
      "activation_17 (Activation)      (None, 128, 40)      0           conv1d_17[0][0]                  \n",
      "__________________________________________________________________________________________________\n",
      "conv1d_18 (Conv1D)              (None, 128, 40)      4840        activation_17[0][0]              \n",
      "__________________________________________________________________________________________________\n",
      "activation_18 (Activation)      (None, 128, 40)      0           conv1d_18[0][0]                  \n",
      "__________________________________________________________________________________________________\n",
      "add_7 (Add)                     (None, 128, 40)      0           activation_18[0][0]              \n",
      "                                                                 activation_16[0][0]              \n",
      "__________________________________________________________________________________________________\n",
      "conv1d_19 (Conv1D)              (None, 128, 40)      4840        add_7[0][0]                      \n",
      "__________________________________________________________________________________________________\n",
      "activation_19 (Activation)      (None, 128, 40)      0           conv1d_19[0][0]                  \n",
      "__________________________________________________________________________________________________\n",
      "conv1d_20 (Conv1D)              (None, 128, 40)      4840        activation_19[0][0]              \n",
      "__________________________________________________________________________________________________\n",
      "activation_20 (Activation)      (None, 128, 40)      0           conv1d_20[0][0]                  \n",
      "__________________________________________________________________________________________________\n",
      "add_8 (Add)                     (None, 128, 40)      0           activation_20[0][0]              \n",
      "                                                                 add_7[0][0]                      \n",
      "__________________________________________________________________________________________________\n",
      "max_pooling1d_4 (MaxPooling1D)  (None, 64, 40)       0           add_8[0][0]                      \n",
      "__________________________________________________________________________________________________\n",
      "conv1d_21 (Conv1D)              (None, 64, 40)       1640        max_pooling1d_4[0][0]            \n",
      "__________________________________________________________________________________________________\n",
      "activation_21 (Activation)      (None, 64, 40)       0           conv1d_21[0][0]                  \n",
      "__________________________________________________________________________________________________\n",
      "conv1d_22 (Conv1D)              (None, 64, 40)       4840        activation_21[0][0]              \n",
      "__________________________________________________________________________________________________\n",
      "activation_22 (Activation)      (None, 64, 40)       0           conv1d_22[0][0]                  \n",
      "__________________________________________________________________________________________________\n",
      "conv1d_23 (Conv1D)              (None, 64, 40)       4840        activation_22[0][0]              \n",
      "__________________________________________________________________________________________________\n",
      "activation_23 (Activation)      (None, 64, 40)       0           conv1d_23[0][0]                  \n",
      "__________________________________________________________________________________________________\n",
      "add_9 (Add)                     (None, 64, 40)       0           activation_23[0][0]              \n",
      "                                                                 activation_21[0][0]              \n",
      "__________________________________________________________________________________________________\n",
      "conv1d_24 (Conv1D)              (None, 64, 40)       4840        add_9[0][0]                      \n",
      "__________________________________________________________________________________________________\n",
      "activation_24 (Activation)      (None, 64, 40)       0           conv1d_24[0][0]                  \n",
      "__________________________________________________________________________________________________\n",
      "conv1d_25 (Conv1D)              (None, 64, 40)       4840        activation_24[0][0]              \n",
      "__________________________________________________________________________________________________\n",
      "activation_25 (Activation)      (None, 64, 40)       0           conv1d_25[0][0]                  \n",
      "__________________________________________________________________________________________________\n",
      "add_10 (Add)                    (None, 64, 40)       0           activation_25[0][0]              \n",
      "                                                                 add_9[0][0]                      \n",
      "__________________________________________________________________________________________________\n",
      "max_pooling1d_5 (MaxPooling1D)  (None, 32, 40)       0           add_10[0][0]                     \n",
      "__________________________________________________________________________________________________\n",
      "flatten_1 (Flatten)             (None, 1280)         0           max_pooling1d_5[0][0]            \n",
      "__________________________________________________________________________________________________\n",
      "dense_1 (Dense)                 (None, 128)          163968      flatten_1[0][0]                  \n",
      "__________________________________________________________________________________________________\n",
      "dropout_1 (Dropout)             (None, 128)          0           dense_1[0][0]                    \n",
      "__________________________________________________________________________________________________\n",
      "dense_2 (Dense)                 (None, 128)          16512       dropout_1[0][0]                  \n",
      "__________________________________________________________________________________________________\n",
      "dropout_2 (Dropout)             (None, 128)          0           dense_2[0][0]                    \n",
      "__________________________________________________________________________________________________\n",
      "dense_3 (Dense)                 (None, 24)           3096        dropout_2[0][0]                  \n",
      "==================================================================================================\n",
      "Total params: 287,056\n",
      "Trainable params: 287,056\n",
      "Non-trainable params: 0\n",
      "__________________________________________________________________________________________________\n",
      "Train on 1022361 samples, validate on 127795 samples\n",
      "Epoch 1/10\n"
     ]
    }
   ],
   "source": [
    "# initialize and train model\n",
    "model = ResNet((1024, 2), 24)\n",
    "model.compile(optimizer=adm, loss='categorical_crossentropy', metrics=['accuracy'])\n",
    "model.summary()\n",
    "history = model.fit(x_train, y_train, epochs = num_epochs, batch_size = batch, callbacks=callbacks_list, validation_data=(x_val, y_val))"
   ]
  },
  {
   "cell_type": "markdown",
   "metadata": {
    "id": "Gu9LVL3aVGTV"
   },
   "source": [
    "<h1>Save Model History</h1>"
   ]
  },
  {
   "cell_type": "code",
   "execution_count": null,
   "metadata": {
    "id": "Ey-6eRGhp2bL"
   },
   "outputs": [],
   "source": [
    "# record model history\n",
    "train_acc = history.history['acc']\n",
    "train_loss = history.history['loss']\n",
    "val_acc = history.history['val_acc']\n",
    "val_loss = history.history['val_loss']\n",
    "\n",
    "if save_history is True:\n",
    "    # save model history: loss and accuracy\n",
    "    np.save(history_path + '/train_acc.npy', train_acc)\n",
    "    np.save(history_path + '/train_loss.npy', train_loss)\n",
    "    np.save(history_path + '/val_acc.npy', val_acc)\n",
    "    np.save(history_path + '/val_loss.npy', val_loss)\n",
    "    print(\"Model History Saved!\")\n",
    "    print('\\n')"
   ]
  },
  {
   "cell_type": "markdown",
   "metadata": {
    "id": "k6vrh_mAVKym"
   },
   "source": [
    "<h1>Evaluate Model on Test Data</h1>"
   ]
  },
  {
   "cell_type": "code",
   "execution_count": null,
   "metadata": {
    "id": "DGUC3-lcca7m"
   },
   "outputs": [],
   "source": [
    "# evaluate model on test data\n",
    "loss, acc = model.evaluate(x_test, y_test, batch_size=32)\n",
    "print('EVALUATING MODEL ON TEST DATA:')\n",
    "print('Test Accuracy: ', str(round(acc*100, 2)), '%')\n",
    "print('\\n')"
   ]
  }
 ],
 "metadata": {
  "accelerator": "GPU",
  "colab": {
   "collapsed_sections": [],
   "machine_shape": "hm",
   "name": "resnet.ipynb",
   "provenance": []
  },
  "kernelspec": {
   "display_name": "Python 3",
   "language": "python",
   "name": "python3"
  },
  "language_info": {
   "codemirror_mode": {
    "name": "ipython",
    "version": 3
   },
   "file_extension": ".py",
   "mimetype": "text/x-python",
   "name": "python",
   "nbconvert_exporter": "python",
   "pygments_lexer": "ipython3",
   "version": "3.8.5"
  }
 },
 "nbformat": 4,
 "nbformat_minor": 1
}
